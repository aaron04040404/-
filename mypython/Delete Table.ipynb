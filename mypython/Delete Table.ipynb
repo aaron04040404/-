{
 "cells": [
  {
   "cell_type": "code",
   "execution_count": null,
   "id": "f6648ae5",
   "metadata": {},
   "outputs": [],
   "source": [
    "#from sqlalchemy import create_engine\n",
    "\n",
    "# 創建與SQLite資料庫的連接\n",
    "engine = create_engine('sqlite:///stock_data.db')\n",
    "\n",
    "# 定義要刪除的表名\n",
    "table_name = 'stock_data_2022'\n",
    "\n",
    "# 執行SQL命令來刪除表\n",
    "with engine.connect() as con:\n",
    "    con.execute(f\"DROP TABLE IF EXISTS {table_name}\")"
   ]
  }
 ],
 "metadata": {
  "kernelspec": {
   "display_name": "Python 3 (ipykernel)",
   "language": "python",
   "name": "python3"
  },
  "language_info": {
   "codemirror_mode": {
    "name": "ipython",
    "version": 3
   },
   "file_extension": ".py",
   "mimetype": "text/x-python",
   "name": "python",
   "nbconvert_exporter": "python",
   "pygments_lexer": "ipython3",
   "version": "3.11.5"
  }
 },
 "nbformat": 4,
 "nbformat_minor": 5
}
