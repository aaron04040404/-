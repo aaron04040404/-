{
 "cells": [
  {
   "cell_type": "code",
   "execution_count": 1,
   "id": "8b17f267",
   "metadata": {},
   "outputs": [
    {
     "name": "stdout",
     "output_type": "stream",
     "text": [
      "               日期  證券代號  證券名稱        成交股數   成交筆數         成交金額    開盤價    最高價  \\\n",
      "0      2016-01-04  1101    台泥  10,437,306  5,250  275,489,048  27.30  27.30   \n",
      "1      2016-01-04  1102    亞泥   6,852,789  3,472  179,618,513  27.35  27.35   \n",
      "2      2016-01-04  1103    嘉泥     133,044     68    1,254,896   9.54   9.54   \n",
      "3      2016-01-04  1104    環泥     231,453    134    5,076,246  22.20  22.20   \n",
      "4      2016-01-04  1108    幸福      81,000     42      813,850  10.10  10.10   \n",
      "...           ...   ...   ...         ...    ...          ...    ...    ...   \n",
      "202269 2016-12-30  9944    新麗      24,000     17      500,500  20.90  20.90   \n",
      "202270 2016-12-30  9945   潤泰新   1,957,746    919   72,207,843  36.80  37.00   \n",
      "202271 2016-12-30  9946  三發地產     189,202     62    2,014,690  10.70  10.75   \n",
      "202272 2016-12-30  9955    佳龍     156,925     92    2,503,721  15.95  16.15   \n",
      "202273 2016-12-30  9958   世紀鋼      38,120     20      368,132   9.68   9.75   \n",
      "\n",
      "          最低價    收盤價                           漲跌  漲跌價差 最後揭示買價 最後揭示買量 最後揭示賣價  \\\n",
      "0       26.15  26.15  <p style= color:green>-</p>  1.15  26.15    163  26.25   \n",
      "1       25.90  26.25  <p style= color:green>-</p>  1.15  26.25     13  26.30   \n",
      "2        9.39   9.40  <p style= color:green>-</p>  0.12   9.40      5   9.42   \n",
      "3       21.65  21.65  <p style= color:green>-</p>  0.85  21.65     22  21.80   \n",
      "4       10.00  10.00  <p style= color:green>-</p>  0.10  10.00    113  10.05   \n",
      "...       ...    ...                          ...   ...    ...    ...    ...   \n",
      "202269  20.60  20.90    <p style= color:red>+</p>  0.20  20.65      3  20.90   \n",
      "202270  36.70  36.80    <p style= color:red>+</p>  0.25  36.80     32  36.85   \n",
      "202271  10.60  10.60                     <p> </p>  0.00  10.60     45  10.75   \n",
      "202272  15.80  15.80    <p style= color:red>+</p>  0.10  15.80      6  16.00   \n",
      "202273   9.60   9.64    <p style= color:red>+</p>  0.06   9.64      2   9.65   \n",
      "\n",
      "       最後揭示賣量    本益比  \n",
      "0          62  14.69  \n",
      "1          24  13.39  \n",
      "2           2   0.00  \n",
      "3           2  10.77  \n",
      "4           5   8.40  \n",
      "...       ...    ...  \n",
      "202269      6  42.65  \n",
      "202270      9   7.93  \n",
      "202271     18   4.73  \n",
      "202272      2   0.00  \n",
      "202273      7  12.52  \n",
      "\n",
      "[202274 rows x 17 columns]\n"
     ]
    }
   ],
   "source": [
    "from sqlalchemy import create_engine\n",
    "import pandas as pd\n",
    "\n",
    "# 創建與SQLite資料庫的連接\n",
    "engine = create_engine('sqlite:///stock_data.db')\n",
    "\n",
    "# 定義要查詢的表名\n",
    "table_name = 'stock_data_2016'\n",
    "\n",
    "# 使用pandas的read_sql_table方法讀取整個表格的數據\n",
    "df = pd.read_sql_table(table_name, con=engine)\n",
    "\n",
    "# 顯示數據\n",
    "print(df)"
   ]
  },
  {
   "cell_type": "code",
   "execution_count": null,
   "id": "7cf4904b",
   "metadata": {},
   "outputs": [],
   "source": []
  }
 ],
 "metadata": {
  "kernelspec": {
   "display_name": "Python 3 (ipykernel)",
   "language": "python",
   "name": "python3"
  },
  "language_info": {
   "codemirror_mode": {
    "name": "ipython",
    "version": 3
   },
   "file_extension": ".py",
   "mimetype": "text/x-python",
   "name": "python",
   "nbconvert_exporter": "python",
   "pygments_lexer": "ipython3",
   "version": "3.11.5"
  }
 },
 "nbformat": 4,
 "nbformat_minor": 5
}
