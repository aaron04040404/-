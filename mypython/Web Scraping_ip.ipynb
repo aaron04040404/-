{
 "cells": [
  {
   "cell_type": "code",
   "execution_count": null,
   "id": "5676aa5e",
   "metadata": {},
   "outputs": [],
   "source": [
    "import requests\n",
    "res = requests.get('https://free-proxy-list.net/')\n",
    "res.text"
   ]
  },
  {
   "cell_type": "code",
   "execution_count": null,
   "id": "d46976a9",
   "metadata": {},
   "outputs": [],
   "source": [
    "import re\n",
    "m = re.findall('\\d+\\.\\d+\\.\\d+\\.\\d+:\\d+', res.text)"
   ]
  },
  {
   "cell_type": "code",
   "execution_count": null,
   "id": "218ab400",
   "metadata": {},
   "outputs": [],
   "source": [
    "validips = []\n",
    "for ip in m:\n",
    "    try:\n",
    "        res = requests.get('https://api.ipify.org?format=json',proxies = {'http':ip, 'https':ip}, timeout = 5)\n",
    "        validips.append(ip)\n",
    "        print(res.json())\n",
    "    except:\n",
    "        print('FAIL', ip )"
   ]
  },
  {
   "cell_type": "code",
   "execution_count": null,
   "id": "6abf314e",
   "metadata": {},
   "outputs": [],
   "source": [
    "validips"
   ]
  }
 ],
 "metadata": {
  "kernelspec": {
   "display_name": "Python 3 (ipykernel)",
   "language": "python",
   "name": "python3"
  },
  "language_info": {
   "codemirror_mode": {
    "name": "ipython",
    "version": 3
   },
   "file_extension": ".py",
   "mimetype": "text/x-python",
   "name": "python",
   "nbconvert_exporter": "python",
   "pygments_lexer": "ipython3",
   "version": "3.11.5"
  }
 },
 "nbformat": 4,
 "nbformat_minor": 5
}
